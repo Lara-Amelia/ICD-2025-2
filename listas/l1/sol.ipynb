{
  "cells": [
    {
      "cell_type": "markdown",
      "metadata": {
        "id": "7MJuOyKwZsN-"
      },
      "source": [
        "# Lista 01 - Introdução e Revisão Numpy\n",
        "\n",
        "[NumPy](http://numpy.org) é um pacote incrivelmente poderoso em Python, onipresente em qualquer projeto de ciência de dados. Possui forte integração com o [Pandas](http://pandas.pydata.org), outra ferramenta que iremos abordar na matéria. NumPy adiciona suporte para matrizes multidimensionais e funções matemáticas que permitem que você execute facilmente cálculos de álgebra linear. Este notebook será uma coleção de exemplos de álgebra linear computados usando NumPy.\n",
        "\n",
        "## Numpy\n",
        "\n",
        "Para fazer uso de Numpy precisamos importar a biblioteca"
      ]
    },
    {
      "cell_type": "code",
      "execution_count": 1,
      "metadata": {
        "id": "EH0IvX0RZsOB"
      },
      "outputs": [],
      "source": [
        "# -*- coding: utf8\n",
        "\n",
        "import numpy as np"
      ]
    },
    {
      "cell_type": "markdown",
      "metadata": {
        "id": "4m0_v66zZsOD"
      },
      "source": [
        "Quando pensamos no lado prático de ciência de dados, um aspecto chave que ajuda na implementação de novos algoritmos é a vetorização. De forma simples, vetorização consiste do uso de tipos como **escalar**, **vetor** e **matriz** para realizar uma computação mais eficaz (em tempo de execução).\n",
        "\n",
        "Uma matriz é uma coleção de valores, normalmente representada por uma grade 𝑚 × 𝑛, onde 𝑚 é o número de linhas e 𝑛 é o número de colunas. Os comprimentos das arestas 𝑚 e 𝑛 não precisam ser necessariamente diferentes. Se tivermos 𝑚 = 𝑛, chamamos isso de matriz quadrada. Um caso particularmente interessante de uma matriz é quando 𝑚 = 1 ou 𝑛 = 1. Nesse caso, temos um caso especial de uma matriz que chamamos de vetor. Embora haja um objeto de matriz em NumPy, faremos tudo usando matrizes NumPy porque elas podem ter dimensões maiores que 2.\n",
        "\n",
        "1. **Escalar:** Um vetor de zero dimensões"
      ]
    },
    {
      "cell_type": "code",
      "execution_count": 2,
      "metadata": {
        "colab": {
          "base_uri": "https://localhost:8080/"
        },
        "id": "-C79k2sNZsOF",
        "outputId": "04fcca3a-a794-41e2-8e3b-1834b5873d9f"
      },
      "outputs": [
        {
          "output_type": "execute_result",
          "data": {
            "text/plain": [
              "1"
            ]
          },
          "metadata": {},
          "execution_count": 2
        }
      ],
      "source": [
        "1"
      ]
    },
    {
      "cell_type": "code",
      "execution_count": 3,
      "metadata": {
        "colab": {
          "base_uri": "https://localhost:8080/"
        },
        "id": "sCT7kXuvZsOG",
        "outputId": "f5bdff0a-4988-4ebf-b6f8-b852eb902df3"
      },
      "outputs": [
        {
          "output_type": "execute_result",
          "data": {
            "text/plain": [
              "array(1)"
            ]
          },
          "metadata": {},
          "execution_count": 3
        }
      ],
      "source": [
        "np.array(1)"
      ]
    },
    {
      "cell_type": "markdown",
      "metadata": {
        "id": "DhnYn-h-ZsOH"
      },
      "source": [
        "2. **Vetor:** Representa uma dimensão"
      ]
    },
    {
      "cell_type": "markdown",
      "metadata": {
        "id": "r6PNMZMNZsOH"
      },
      "source": [
        "Abaixo vamos criar um vetor simples. Inicialmente, vamos criar uma lista."
      ]
    },
    {
      "cell_type": "code",
      "execution_count": 4,
      "metadata": {
        "id": "uKSrQD5JZsOH"
      },
      "outputs": [],
      "source": [
        "data_list = [3.5, 5, 2, 8, 4.2]"
      ]
    },
    {
      "cell_type": "markdown",
      "metadata": {
        "id": "9CVsaoVAZsOI"
      },
      "source": [
        "Observe o tipo da mesma."
      ]
    },
    {
      "cell_type": "code",
      "execution_count": 5,
      "metadata": {
        "colab": {
          "base_uri": "https://localhost:8080/"
        },
        "id": "JFFJ9CV9ZsOI",
        "outputId": "dff2b5bd-bd86-4d4b-ced2-0de6b7f6fa84"
      },
      "outputs": [
        {
          "output_type": "execute_result",
          "data": {
            "text/plain": [
              "list"
            ]
          },
          "metadata": {},
          "execution_count": 5
        }
      ],
      "source": [
        "type(data_list)"
      ]
    },
    {
      "cell_type": "markdown",
      "metadata": {
        "id": "8v6i7RoJZsOJ"
      },
      "source": [
        "Embora vetores e listas sejam parecidos, vetores Numpy são otimizados para operações de Álgebra Linear. Ciência de Dados faz bastante uso de tais operações, sendo este um dos motivos da dependência em Numpy.\n",
        "\n",
        "Abaixo criamos um vetor."
      ]
    },
    {
      "cell_type": "code",
      "execution_count": 6,
      "metadata": {
        "colab": {
          "base_uri": "https://localhost:8080/"
        },
        "id": "sOqx9-NJZsOJ",
        "outputId": "60a48b6b-1e91-4fdc-c33a-bb26528ef366"
      },
      "outputs": [
        {
          "output_type": "stream",
          "name": "stdout",
          "text": [
            "[3.5 5.  2.  8.  4.2]\n",
            "<class 'numpy.ndarray'>\n"
          ]
        }
      ],
      "source": [
        "data = np.array(data_list)\n",
        "print(data)\n",
        "print(type(data))"
      ]
    },
    {
      "cell_type": "markdown",
      "metadata": {
        "id": "nEcuCc0XZsOK"
      },
      "source": [
        "Observe como podemos somar o mesmo com um número. Não é possível fazer tal operação com listas."
      ]
    },
    {
      "cell_type": "code",
      "execution_count": 7,
      "metadata": {
        "colab": {
          "base_uri": "https://localhost:8080/"
        },
        "id": "_iNBzhQ1ZsOK",
        "outputId": "9d9d6c51-9845-46d4-8bb2-5abcd6ab7d82"
      },
      "outputs": [
        {
          "output_type": "execute_result",
          "data": {
            "text/plain": [
              "array([10.5, 12. ,  9. , 15. , 11.2])"
            ]
          },
          "metadata": {},
          "execution_count": 7
        }
      ],
      "source": [
        "data + 7"
      ]
    },
    {
      "cell_type": "markdown",
      "metadata": {
        "id": "WlsGfqvvZsOK"
      },
      "source": [
        "3. **Matrizes:** Representam duas dimensões."
      ]
    },
    {
      "cell_type": "code",
      "execution_count": 8,
      "metadata": {
        "colab": {
          "base_uri": "https://localhost:8080/"
        },
        "id": "lNESwh0KZsOK",
        "outputId": "cfbdc96e-53d3-446d-bdd8-7360440b61cb"
      },
      "outputs": [
        {
          "output_type": "execute_result",
          "data": {
            "text/plain": [
              "array([[2, 4],\n",
              "       [1, 3]])"
            ]
          },
          "metadata": {},
          "execution_count": 8
        }
      ],
      "source": [
        "X = np.array([[2, 4],\n",
        "              [1, 3]])\n",
        "X"
      ]
    },
    {
      "cell_type": "markdown",
      "metadata": {
        "id": "cJ7dYOnsZsOL"
      },
      "source": [
        "Podemos indexar as matrizes e os vetores."
      ]
    },
    {
      "cell_type": "code",
      "execution_count": 9,
      "metadata": {
        "colab": {
          "base_uri": "https://localhost:8080/"
        },
        "id": "fIToq2T-ZsOL",
        "outputId": "a8a022a7-decc-4d3b-f742-9f3bbee1952f"
      },
      "outputs": [
        {
          "output_type": "execute_result",
          "data": {
            "text/plain": [
              "np.float64(3.5)"
            ]
          },
          "metadata": {},
          "execution_count": 9
        }
      ],
      "source": [
        "data[0]"
      ]
    },
    {
      "cell_type": "code",
      "execution_count": 10,
      "metadata": {
        "colab": {
          "base_uri": "https://localhost:8080/"
        },
        "id": "5vz2DkV7ZsOL",
        "outputId": "6089f0d0-b0bd-46fe-b719-d51c016d9e0d"
      },
      "outputs": [
        {
          "output_type": "execute_result",
          "data": {
            "text/plain": [
              "np.int64(4)"
            ]
          },
          "metadata": {},
          "execution_count": 10
        }
      ],
      "source": [
        "X[0, 1] # aqui é primeira linha, segunda coluna"
      ]
    },
    {
      "cell_type": "markdown",
      "metadata": {
        "id": "_3WyGVxuZsOL"
      },
      "source": [
        "Podemos também criar vetores/matrizes de números aleatórios"
      ]
    },
    {
      "cell_type": "code",
      "execution_count": 11,
      "metadata": {
        "colab": {
          "base_uri": "https://localhost:8080/"
        },
        "id": "ZdZTaOw7ZsOL",
        "outputId": "0a8b21ac-ee77-4b5c-e1ca-d4ccdb75b3dd"
      },
      "outputs": [
        {
          "output_type": "stream",
          "name": "stdout",
          "text": [
            "[[-0.74476389 -0.5685493  -0.1398443 ]\n",
            " [ 0.6506493  -0.64032697 -0.54118282]\n",
            " [-0.65724438  1.0655388   1.11374946]\n",
            " [ 0.66941604  0.34275264 -0.64720005]]\n"
          ]
        }
      ],
      "source": [
        "X = np.random.randn(4, 3) # Gera números aleatórios de uma normal\n",
        "print(X)"
      ]
    },
    {
      "cell_type": "markdown",
      "metadata": {
        "id": "jZVlX94ZZsOL"
      },
      "source": [
        "### Indexando\n",
        "\n",
        "Pegando a primeira linha"
      ]
    },
    {
      "cell_type": "code",
      "execution_count": 12,
      "metadata": {
        "colab": {
          "base_uri": "https://localhost:8080/"
        },
        "id": "YXN4E6cSZsOM",
        "outputId": "1d0afdf2-e5a1-4802-f7ab-85e9dc5f6c05"
      },
      "outputs": [
        {
          "output_type": "execute_result",
          "data": {
            "text/plain": [
              "array([-0.74476389, -0.5685493 , -0.1398443 ])"
            ]
          },
          "metadata": {},
          "execution_count": 12
        }
      ],
      "source": [
        "X[0] # observe que 0 é a linha 1, compare com o X[0, 1] de antes."
      ]
    },
    {
      "cell_type": "code",
      "execution_count": 13,
      "metadata": {
        "colab": {
          "base_uri": "https://localhost:8080/"
        },
        "id": "_Kng64KeZsOM",
        "outputId": "064f4f38-30e8-4bfa-d75c-586db58acde9"
      },
      "outputs": [
        {
          "output_type": "execute_result",
          "data": {
            "text/plain": [
              "array([ 0.6506493 , -0.64032697, -0.54118282])"
            ]
          },
          "metadata": {},
          "execution_count": 13
        }
      ],
      "source": [
        "X[1] # segunda"
      ]
    },
    {
      "cell_type": "code",
      "execution_count": 14,
      "metadata": {
        "colab": {
          "base_uri": "https://localhost:8080/"
        },
        "id": "03mdKZEHZsOM",
        "outputId": "8d198fce-ab35-4d61-c570-914f78adb9da"
      },
      "outputs": [
        {
          "output_type": "execute_result",
          "data": {
            "text/plain": [
              "array([-0.65724438,  1.0655388 ,  1.11374946])"
            ]
          },
          "metadata": {},
          "execution_count": 14
        }
      ],
      "source": [
        "X[2] # terceira"
      ]
    },
    {
      "cell_type": "markdown",
      "metadata": {
        "id": "iiuRcPLKZsOM"
      },
      "source": [
        "Observe como todos os tipos retornados são `array`. Array é o nome genérico de Numpy para vetores e matrizes."
      ]
    },
    {
      "cell_type": "markdown",
      "metadata": {
        "id": "Rc5nmgIkZsOM"
      },
      "source": [
        "`X[:, c]` pega uma coluna"
      ]
    },
    {
      "cell_type": "code",
      "execution_count": 15,
      "metadata": {
        "colab": {
          "base_uri": "https://localhost:8080/"
        },
        "id": "dsw6mt9OZsOM",
        "outputId": "0b40980e-909a-4d75-c649-1e18db6f5288"
      },
      "outputs": [
        {
          "output_type": "execute_result",
          "data": {
            "text/plain": [
              "array([-0.74476389,  0.6506493 , -0.65724438,  0.66941604])"
            ]
          },
          "metadata": {},
          "execution_count": 15
        }
      ],
      "source": [
        "X[:, 0]"
      ]
    },
    {
      "cell_type": "code",
      "execution_count": 16,
      "metadata": {
        "colab": {
          "base_uri": "https://localhost:8080/"
        },
        "id": "SV_q4wRLZsON",
        "outputId": "7e3167d7-ef9e-4a77-d7b2-1697daa080c2"
      },
      "outputs": [
        {
          "output_type": "execute_result",
          "data": {
            "text/plain": [
              "array([-0.5685493 , -0.64032697,  1.0655388 ,  0.34275264])"
            ]
          },
          "metadata": {},
          "execution_count": 16
        }
      ],
      "source": [
        "X[:, 1]"
      ]
    },
    {
      "cell_type": "markdown",
      "metadata": {
        "id": "7Kk3dap3ZsON"
      },
      "source": [
        "`X[um_vetor]` pega as linhas da matriz. `X[:, um_vetor]` pega as colunas"
      ]
    },
    {
      "cell_type": "code",
      "execution_count": 17,
      "metadata": {
        "colab": {
          "base_uri": "https://localhost:8080/"
        },
        "id": "FEjYKoRiZsON",
        "outputId": "5c9fca50-f26b-4fc4-c793-3633d2e09f8b"
      },
      "outputs": [
        {
          "output_type": "execute_result",
          "data": {
            "text/plain": [
              "array([[-0.74476389, -0.5685493 , -0.1398443 ],\n",
              "       [-0.74476389, -0.5685493 , -0.1398443 ],\n",
              "       [ 0.6506493 , -0.64032697, -0.54118282]])"
            ]
          },
          "metadata": {},
          "execution_count": 17
        }
      ],
      "source": [
        "X[[0, 0, 1]] # observe que pego a primeira linha, indexada por 0, duas vezes"
      ]
    },
    {
      "cell_type": "markdown",
      "metadata": {
        "id": "8pgzOnw7ZsON"
      },
      "source": [
        "Abaixo pego a segunda a primeira coluna"
      ]
    },
    {
      "cell_type": "code",
      "execution_count": 18,
      "metadata": {
        "colab": {
          "base_uri": "https://localhost:8080/"
        },
        "id": "Z-yZ0c9sZsON",
        "outputId": "a79e9bce-90fb-473e-fb24-a1742a471166"
      },
      "outputs": [
        {
          "output_type": "execute_result",
          "data": {
            "text/plain": [
              "array([[-0.5685493 , -0.74476389],\n",
              "       [-0.64032697,  0.6506493 ],\n",
              "       [ 1.0655388 , -0.65724438],\n",
              "       [ 0.34275264,  0.66941604]])"
            ]
          },
          "metadata": {},
          "execution_count": 18
        }
      ],
      "source": [
        "X[:, [1, 0]]"
      ]
    },
    {
      "cell_type": "markdown",
      "metadata": {
        "id": "x0vOMzdWZsON"
      },
      "source": [
        "### Indexação Booleana\n",
        "\n",
        "`X[vetor_booleano]` retorna as linhas (ou colunas quando X[:, vetor_booleano]) onde o vetor é true"
      ]
    },
    {
      "cell_type": "code",
      "execution_count": 19,
      "metadata": {
        "colab": {
          "base_uri": "https://localhost:8080/"
        },
        "id": "bq-DfTMzZsON",
        "outputId": "a39cbaea-f26c-49e6-8549-1b5f4d073f9b"
      },
      "outputs": [
        {
          "output_type": "execute_result",
          "data": {
            "text/plain": [
              "array([[-0.74476389, -0.5685493 , -0.1398443 ],\n",
              "       [-0.65724438,  1.0655388 ,  1.11374946]])"
            ]
          },
          "metadata": {},
          "execution_count": 19
        }
      ],
      "source": [
        "X[[True, False, True, False]]"
      ]
    },
    {
      "cell_type": "code",
      "execution_count": 20,
      "metadata": {
        "colab": {
          "base_uri": "https://localhost:8080/"
        },
        "id": "bfS6HbOYZsOO",
        "outputId": "196a45aa-0e74-4fc1-84ee-bf2366100bd8"
      },
      "outputs": [
        {
          "output_type": "execute_result",
          "data": {
            "text/plain": [
              "array([[-0.5685493 , -0.1398443 ],\n",
              "       [-0.64032697, -0.54118282],\n",
              "       [ 1.0655388 ,  1.11374946],\n",
              "       [ 0.34275264, -0.64720005]])"
            ]
          },
          "metadata": {},
          "execution_count": 20
        }
      ],
      "source": [
        "X[:, [False, True, True]]"
      ]
    },
    {
      "cell_type": "markdown",
      "metadata": {
        "id": "6QuTABowZsOO"
      },
      "source": [
        "### Reshape, Flatten e Ravel\n",
        "\n",
        "Todo vetor ou matriz pode ser redimensionado. Observe como uma matriz abaixo de 9x8=72 elementos. Podemos redimensionar os mesmos para outros arrays de tamanho 72."
      ]
    },
    {
      "cell_type": "code",
      "execution_count": 21,
      "metadata": {
        "id": "qdYoCf8oZsOO"
      },
      "outputs": [],
      "source": [
        "X = np.random.randn(9, 8)"
      ]
    },
    {
      "cell_type": "markdown",
      "metadata": {
        "id": "pAu1x7frZsOO"
      },
      "source": [
        "Criando uma matriz de 18x4."
      ]
    },
    {
      "cell_type": "code",
      "execution_count": 22,
      "metadata": {
        "colab": {
          "base_uri": "https://localhost:8080/"
        },
        "id": "yge5wWrXZsOr",
        "outputId": "f0ddfe58-47c1-4273-e796-c21091930abf"
      },
      "outputs": [
        {
          "output_type": "execute_result",
          "data": {
            "text/plain": [
              "array([[-0.86732264, -0.05263662,  1.52810851,  1.20881162],\n",
              "       [ 0.42343581, -0.1457651 , -0.10567191,  1.00638577],\n",
              "       [ 0.35649745,  0.8088684 , -0.51252348, -0.13322638],\n",
              "       [-0.21333043, -0.67221524,  0.68284344, -0.3921671 ],\n",
              "       [-0.67869462,  0.07146738, -0.67655964,  0.64603039],\n",
              "       [ 0.19361904,  0.28070921, -3.11291182, -0.84123856],\n",
              "       [ 1.35607689, -0.17750495,  0.79896856, -0.38267411],\n",
              "       [ 0.926941  ,  0.20742245,  0.08207559, -0.77098624],\n",
              "       [-1.437063  ,  0.56771947,  2.06152777, -1.81096856],\n",
              "       [ 0.23449442, -0.89230962, -0.04199461,  0.07499537],\n",
              "       [-0.43598272,  1.8948591 , -1.38986718,  2.69899683],\n",
              "       [ 0.54978827,  1.96562226, -0.38493396, -0.35719527],\n",
              "       [-0.00558647, -0.49504195,  0.23230951,  0.30668535],\n",
              "       [-0.86150227, -0.95760774,  0.31448807, -0.32266668],\n",
              "       [ 0.9249128 , -0.92575887,  0.43402917, -0.66366891],\n",
              "       [ 0.03495915, -1.40671155, -1.443684  , -0.90928135],\n",
              "       [ 1.30867356,  2.24342553,  0.22585024,  0.82173902],\n",
              "       [ 1.71147724,  0.14201114, -0.88849573,  0.07118609]])"
            ]
          },
          "metadata": {},
          "execution_count": 22
        }
      ],
      "source": [
        "X.reshape((18, 4))"
      ]
    },
    {
      "cell_type": "markdown",
      "metadata": {
        "id": "aieNAomCZsOs"
      },
      "source": [
        "Ou um vetor de 72"
      ]
    },
    {
      "cell_type": "code",
      "execution_count": 23,
      "metadata": {
        "colab": {
          "base_uri": "https://localhost:8080/"
        },
        "id": "JDfTJF2ZZsOs",
        "outputId": "f3e85fd5-8bba-4e2f-b54c-e9e2278e17c7"
      },
      "outputs": [
        {
          "output_type": "execute_result",
          "data": {
            "text/plain": [
              "array([-0.86732264, -0.05263662,  1.52810851,  1.20881162,  0.42343581,\n",
              "       -0.1457651 , -0.10567191,  1.00638577,  0.35649745,  0.8088684 ,\n",
              "       -0.51252348, -0.13322638, -0.21333043, -0.67221524,  0.68284344,\n",
              "       -0.3921671 , -0.67869462,  0.07146738, -0.67655964,  0.64603039,\n",
              "        0.19361904,  0.28070921, -3.11291182, -0.84123856,  1.35607689,\n",
              "       -0.17750495,  0.79896856, -0.38267411,  0.926941  ,  0.20742245,\n",
              "        0.08207559, -0.77098624, -1.437063  ,  0.56771947,  2.06152777,\n",
              "       -1.81096856,  0.23449442, -0.89230962, -0.04199461,  0.07499537,\n",
              "       -0.43598272,  1.8948591 , -1.38986718,  2.69899683,  0.54978827,\n",
              "        1.96562226, -0.38493396, -0.35719527, -0.00558647, -0.49504195,\n",
              "        0.23230951,  0.30668535, -0.86150227, -0.95760774,  0.31448807,\n",
              "       -0.32266668,  0.9249128 , -0.92575887,  0.43402917, -0.66366891,\n",
              "        0.03495915, -1.40671155, -1.443684  , -0.90928135,  1.30867356,\n",
              "        2.24342553,  0.22585024,  0.82173902,  1.71147724,  0.14201114,\n",
              "       -0.88849573,  0.07118609])"
            ]
          },
          "metadata": {},
          "execution_count": 23
        }
      ],
      "source": [
        "X.reshape(72)"
      ]
    },
    {
      "cell_type": "markdown",
      "metadata": {
        "id": "OMeAD3xkZsOt"
      },
      "source": [
        "A chamada flatten e ravel faz a mesma coisa, criam uma visão de uma dimensão da matriz."
      ]
    },
    {
      "cell_type": "code",
      "execution_count": 24,
      "metadata": {
        "colab": {
          "base_uri": "https://localhost:8080/"
        },
        "id": "eNdSD5U7ZsOt",
        "outputId": "9b9d007d-23ed-4407-e259-def4e963aa47"
      },
      "outputs": [
        {
          "output_type": "execute_result",
          "data": {
            "text/plain": [
              "array([-0.86732264, -0.05263662,  1.52810851,  1.20881162,  0.42343581,\n",
              "       -0.1457651 , -0.10567191,  1.00638577,  0.35649745,  0.8088684 ,\n",
              "       -0.51252348, -0.13322638, -0.21333043, -0.67221524,  0.68284344,\n",
              "       -0.3921671 , -0.67869462,  0.07146738, -0.67655964,  0.64603039,\n",
              "        0.19361904,  0.28070921, -3.11291182, -0.84123856,  1.35607689,\n",
              "       -0.17750495,  0.79896856, -0.38267411,  0.926941  ,  0.20742245,\n",
              "        0.08207559, -0.77098624, -1.437063  ,  0.56771947,  2.06152777,\n",
              "       -1.81096856,  0.23449442, -0.89230962, -0.04199461,  0.07499537,\n",
              "       -0.43598272,  1.8948591 , -1.38986718,  2.69899683,  0.54978827,\n",
              "        1.96562226, -0.38493396, -0.35719527, -0.00558647, -0.49504195,\n",
              "        0.23230951,  0.30668535, -0.86150227, -0.95760774,  0.31448807,\n",
              "       -0.32266668,  0.9249128 , -0.92575887,  0.43402917, -0.66366891,\n",
              "        0.03495915, -1.40671155, -1.443684  , -0.90928135,  1.30867356,\n",
              "        2.24342553,  0.22585024,  0.82173902,  1.71147724,  0.14201114,\n",
              "       -0.88849573,  0.07118609])"
            ]
          },
          "metadata": {},
          "execution_count": 24
        }
      ],
      "source": [
        "X.flatten()"
      ]
    },
    {
      "cell_type": "code",
      "execution_count": 25,
      "metadata": {
        "colab": {
          "base_uri": "https://localhost:8080/"
        },
        "id": "yltt-CdPZsOt",
        "outputId": "070826ed-5648-4b1e-d33d-fbbfec7c25be"
      },
      "outputs": [
        {
          "output_type": "execute_result",
          "data": {
            "text/plain": [
              "array([-0.86732264, -0.05263662,  1.52810851,  1.20881162,  0.42343581,\n",
              "       -0.1457651 , -0.10567191,  1.00638577,  0.35649745,  0.8088684 ,\n",
              "       -0.51252348, -0.13322638, -0.21333043, -0.67221524,  0.68284344,\n",
              "       -0.3921671 , -0.67869462,  0.07146738, -0.67655964,  0.64603039,\n",
              "        0.19361904,  0.28070921, -3.11291182, -0.84123856,  1.35607689,\n",
              "       -0.17750495,  0.79896856, -0.38267411,  0.926941  ,  0.20742245,\n",
              "        0.08207559, -0.77098624, -1.437063  ,  0.56771947,  2.06152777,\n",
              "       -1.81096856,  0.23449442, -0.89230962, -0.04199461,  0.07499537,\n",
              "       -0.43598272,  1.8948591 , -1.38986718,  2.69899683,  0.54978827,\n",
              "        1.96562226, -0.38493396, -0.35719527, -0.00558647, -0.49504195,\n",
              "        0.23230951,  0.30668535, -0.86150227, -0.95760774,  0.31448807,\n",
              "       -0.32266668,  0.9249128 , -0.92575887,  0.43402917, -0.66366891,\n",
              "        0.03495915, -1.40671155, -1.443684  , -0.90928135,  1.30867356,\n",
              "        2.24342553,  0.22585024,  0.82173902,  1.71147724,  0.14201114,\n",
              "       -0.88849573,  0.07118609])"
            ]
          },
          "metadata": {},
          "execution_count": 25
        }
      ],
      "source": [
        "X.ravel()"
      ]
    },
    {
      "cell_type": "markdown",
      "metadata": {
        "id": "dVFlzV6pZsOu"
      },
      "source": [
        "As funções incorporadas ao NumPy podem ser facilmente chamadas em matrizes. A maioria das funções são aplicadas a um elemento de array (como a multiplicação escalar). Por exemplo, se chamarmos `log()` em um array, o logaritmo será obtido de cada elemento."
      ]
    },
    {
      "cell_type": "code",
      "execution_count": 26,
      "metadata": {
        "colab": {
          "base_uri": "https://localhost:8080/"
        },
        "id": "n6r-auymZsOu",
        "outputId": "0903dc36-971d-40f2-d721-0bc9b0d23b7b"
      },
      "outputs": [
        {
          "output_type": "execute_result",
          "data": {
            "text/plain": [
              "array([1.25276297, 1.60943791, 0.69314718, 2.07944154, 1.43508453])"
            ]
          },
          "metadata": {},
          "execution_count": 26
        }
      ],
      "source": [
        "np.log(data)"
      ]
    },
    {
      "cell_type": "markdown",
      "metadata": {
        "id": "9eQ7r9V7ZsOu"
      },
      "source": [
        "Mean tira a média"
      ]
    },
    {
      "cell_type": "code",
      "execution_count": 27,
      "metadata": {
        "colab": {
          "base_uri": "https://localhost:8080/"
        },
        "id": "kM0gPGL9ZsOu",
        "outputId": "c2fa501c-8751-4bcc-e4f0-cf4ed88a12e0"
      },
      "outputs": [
        {
          "output_type": "execute_result",
          "data": {
            "text/plain": [
              "np.float64(4.54)"
            ]
          },
          "metadata": {},
          "execution_count": 27
        }
      ],
      "source": [
        "np.mean(data)"
      ]
    },
    {
      "cell_type": "markdown",
      "metadata": {
        "id": "TkwC0ncWZsOu"
      },
      "source": [
        "Algumas funções podem ser chamadas direto no vetor, nem todas serão assim. O importante é ler a [documentação](http://numpy.org) e aprender. Com um pouco de prática você vai se acostumando."
      ]
    },
    {
      "cell_type": "code",
      "execution_count": 28,
      "metadata": {
        "colab": {
          "base_uri": "https://localhost:8080/"
        },
        "id": "YQkWObcIZsOv",
        "outputId": "77c9ec72-d660-4883-ab89-de0a4cc263ba"
      },
      "outputs": [
        {
          "output_type": "execute_result",
          "data": {
            "text/plain": [
              "np.float64(4.54)"
            ]
          },
          "metadata": {},
          "execution_count": 28
        }
      ],
      "source": [
        "data.mean()"
      ]
    },
    {
      "cell_type": "markdown",
      "metadata": {
        "id": "TS1BiwbOZsOv"
      },
      "source": [
        "Abaixo temos a mediana,"
      ]
    },
    {
      "cell_type": "code",
      "execution_count": 29,
      "metadata": {
        "colab": {
          "base_uri": "https://localhost:8080/"
        },
        "id": "fluHxzrNZsOv",
        "outputId": "93c16722-93be-4623-dce1-3ff077f5b7a0"
      },
      "outputs": [
        {
          "output_type": "execute_result",
          "data": {
            "text/plain": [
              "np.float64(4.2)"
            ]
          },
          "metadata": {},
          "execution_count": 29
        }
      ],
      "source": [
        "np.median(data) # por exemplo, não existe data.median(). Faz sentido? Não. Mas é assim."
      ]
    },
    {
      "cell_type": "markdown",
      "metadata": {
        "id": "ginZQLN6ZsOv"
      },
      "source": [
        "Em matrizes as funções operam em todos os elemntos."
      ]
    },
    {
      "cell_type": "code",
      "execution_count": 30,
      "metadata": {
        "colab": {
          "base_uri": "https://localhost:8080/"
        },
        "id": "-3p4hVnbZsOw",
        "outputId": "8226cfdc-2754-4230-d502-21940afc4fed"
      },
      "outputs": [
        {
          "output_type": "execute_result",
          "data": {
            "text/plain": [
              "np.float64(0.05307261976807524)"
            ]
          },
          "metadata": {},
          "execution_count": 30
        }
      ],
      "source": [
        "np.median(X)"
      ]
    },
    {
      "cell_type": "code",
      "execution_count": 31,
      "metadata": {
        "colab": {
          "base_uri": "https://localhost:8080/"
        },
        "id": "0AkitqQpZsOw",
        "outputId": "8bcd9d66-0c9e-4565-e2db-050df0b7f51e"
      },
      "outputs": [
        {
          "output_type": "execute_result",
          "data": {
            "text/plain": [
              "np.float64(0.05600364660339416)"
            ]
          },
          "metadata": {},
          "execution_count": 31
        }
      ],
      "source": [
        "X.mean()"
      ]
    },
    {
      "cell_type": "code",
      "execution_count": 32,
      "metadata": {
        "colab": {
          "base_uri": "https://localhost:8080/"
        },
        "id": "54m6BdeLZsOw",
        "outputId": "cc7e497b-28f0-4ce9-ff8d-cfd1d6050680"
      },
      "outputs": [
        {
          "output_type": "execute_result",
          "data": {
            "text/plain": [
              "array([[2.2118589 , 2.29730753, 2.44478827, 2.41670022, 2.34405671,\n",
              "        2.2879013 , 2.29196167, 2.39847563],\n",
              "       [2.3376141 , 2.38036695, 2.24997267, 2.28917291, 2.28102121,\n",
              "        2.23299755, 2.36863904, 2.26257869],\n",
              "       [2.23230268, 2.30970641, 2.2325317 , 2.36518709, 2.32176194,\n",
              "        2.33026925, 1.92964838, 2.21471096],\n",
              "       [2.42975301, 2.28467517, 2.37945063, 2.26356625, 2.39123139,\n",
              "        2.32311515, 2.31075915, 2.22235219],\n",
              "       [2.14744324, 2.35780402, 2.49002086, 2.10279563, 2.32576382,\n",
              "        2.20911915, 2.29837679, 2.31005665],\n",
              "       [2.25800786, 2.4761063 , 2.15293974, 2.541523  , 2.35610579,\n",
              "        2.48203773, 2.26333125, 2.26621201],\n",
              "       [2.30202629, 2.25181356, 2.32555031, 2.33279275, 2.21249601,\n",
              "        2.20192377, 2.33354952, 2.26978638],\n",
              "       [2.39104576, 2.20543975, 2.3450725 , 2.23391336, 2.30607491,\n",
              "        2.15098149, 2.14666972, 2.20725396],\n",
              "       [2.42557   , 2.5049891 , 2.32491885, 2.38155698, 2.46056932,\n",
              "        2.31668632, 2.20953782, 2.30967848]])"
            ]
          },
          "metadata": {},
          "execution_count": 32
        }
      ],
      "source": [
        "np.log(X + 10)"
      ]
    },
    {
      "cell_type": "markdown",
      "metadata": {
        "id": "vQHK8PxWZsOw"
      },
      "source": [
        "Porém, caso você queira a media de linhas ou colunas use `axis`. Antes, vamos ver o tamanho do vetor."
      ]
    },
    {
      "cell_type": "code",
      "execution_count": 33,
      "metadata": {
        "colab": {
          "base_uri": "https://localhost:8080/"
        },
        "id": "6SK00mtXZsOx",
        "outputId": "522267ba-9559-48d1-d7b6-76a66996e6c6"
      },
      "outputs": [
        {
          "output_type": "execute_result",
          "data": {
            "text/plain": [
              "(9, 8)"
            ]
          },
          "metadata": {},
          "execution_count": 33
        }
      ],
      "source": [
        "X.shape"
      ]
    },
    {
      "cell_type": "code",
      "execution_count": 34,
      "metadata": {
        "colab": {
          "base_uri": "https://localhost:8080/"
        },
        "id": "wF2GSCkeZsOx",
        "outputId": "fbd18fbd-1f56-45be-bb5d-a243a0f9aecd"
      },
      "outputs": [
        {
          "output_type": "execute_result",
          "data": {
            "text/plain": [
              "array([ 0.05794569,  0.43726639,  0.30020483,  0.29908058,  0.33332025,\n",
              "       -0.16431602, -0.54425388, -0.27121866])"
            ]
          },
          "metadata": {},
          "execution_count": 34
        }
      ],
      "source": [
        "np.mean(X, axis=0) # média das colunas. como temos 8 colunas, temos 8 elementos."
      ]
    },
    {
      "cell_type": "code",
      "execution_count": 35,
      "metadata": {
        "colab": {
          "base_uri": "https://localhost:8080/"
        },
        "id": "VU9QV91FZsOx",
        "outputId": "d309c011-7911-4bbc-9145-a2a9bbdf7670"
      },
      "outputs": [
        {
          "output_type": "execute_result",
          "data": {
            "text/plain": [
              "(8,)"
            ]
          },
          "metadata": {},
          "execution_count": 35
        }
      ],
      "source": [
        "np.mean(X, axis=0).shape"
      ]
    },
    {
      "cell_type": "code",
      "execution_count": 36,
      "metadata": {
        "colab": {
          "base_uri": "https://localhost:8080/"
        },
        "id": "RQeLbrt0ZsOx",
        "outputId": "b953def4-abc1-4f71-9333-4b3bb3d4f789"
      },
      "outputs": [
        {
          "output_type": "execute_result",
          "data": {
            "text/plain": [
              "array([ 0.37441818, -0.00940667, -0.51469733,  0.2550399 , -0.15544985,\n",
              "        0.56766091, -0.22361527, -0.49440045,  0.70448339])"
            ]
          },
          "metadata": {},
          "execution_count": 36
        }
      ],
      "source": [
        "np.mean(X, axis=1) # média das linhas"
      ]
    },
    {
      "cell_type": "code",
      "execution_count": 37,
      "metadata": {
        "colab": {
          "base_uri": "https://localhost:8080/"
        },
        "id": "m1i4HRfFZsOy",
        "outputId": "c3268646-db27-4788-c2ec-be0f86ceaa48"
      },
      "outputs": [
        {
          "output_type": "execute_result",
          "data": {
            "text/plain": [
              "(9,)"
            ]
          },
          "metadata": {},
          "execution_count": 37
        }
      ],
      "source": [
        "np.mean(X, axis=1).shape"
      ]
    },
    {
      "cell_type": "markdown",
      "metadata": {
        "id": "CDTCpN6hZsOy"
      },
      "source": [
        "Lembre-se que eixo 0 é coluna. Eixo 1 é linas."
      ]
    },
    {
      "cell_type": "markdown",
      "metadata": {
        "id": "zlaXR7T9ZsOy"
      },
      "source": [
        "### Multiplicação de Matrizes"
      ]
    },
    {
      "cell_type": "markdown",
      "metadata": {
        "id": "0z8kNcxxZsOy"
      },
      "source": [
        "Para transpor uma matriz fazemos uso de .T"
      ]
    },
    {
      "cell_type": "code",
      "execution_count": 38,
      "metadata": {
        "colab": {
          "base_uri": "https://localhost:8080/"
        },
        "id": "5bVlJQacZsOy",
        "outputId": "a31ca3c6-afc4-4d7c-c973-4092bc5eb5db"
      },
      "outputs": [
        {
          "output_type": "execute_result",
          "data": {
            "text/plain": [
              "(9, 8)"
            ]
          },
          "metadata": {},
          "execution_count": 38
        }
      ],
      "source": [
        "X.shape"
      ]
    },
    {
      "cell_type": "code",
      "execution_count": 39,
      "metadata": {
        "colab": {
          "base_uri": "https://localhost:8080/"
        },
        "id": "kGZ97n8fZsOz",
        "outputId": "fb13f97a-4845-447b-b111-221a6eb1ece5"
      },
      "outputs": [
        {
          "output_type": "execute_result",
          "data": {
            "text/plain": [
              "(8, 9)"
            ]
          },
          "metadata": {},
          "execution_count": 39
        }
      ],
      "source": [
        "X.T.shape"
      ]
    },
    {
      "cell_type": "code",
      "execution_count": 40,
      "metadata": {
        "colab": {
          "base_uri": "https://localhost:8080/"
        },
        "id": "ATxErkwKZsOz",
        "outputId": "8eae2b2f-a92b-45d3-caa3-fb06609fbec7"
      },
      "outputs": [
        {
          "output_type": "execute_result",
          "data": {
            "text/plain": [
              "array([[-0.86732264,  0.35649745, -0.67869462,  1.35607689, -1.437063  ,\n",
              "        -0.43598272, -0.00558647,  0.9249128 ,  1.30867356],\n",
              "       [-0.05263662,  0.8088684 ,  0.07146738, -0.17750495,  0.56771947,\n",
              "         1.8948591 , -0.49504195, -0.92575887,  2.24342553],\n",
              "       [ 1.52810851, -0.51252348, -0.67655964,  0.79896856,  2.06152777,\n",
              "        -1.38986718,  0.23230951,  0.43402917,  0.22585024],\n",
              "       [ 1.20881162, -0.13322638,  0.64603039, -0.38267411, -1.81096856,\n",
              "         2.69899683,  0.30668535, -0.66366891,  0.82173902],\n",
              "       [ 0.42343581, -0.21333043,  0.19361904,  0.926941  ,  0.23449442,\n",
              "         0.54978827, -0.86150227,  0.03495915,  1.71147724],\n",
              "       [-0.1457651 , -0.67221524,  0.28070921,  0.20742245, -0.89230962,\n",
              "         1.96562226, -0.95760774, -1.40671155,  0.14201114],\n",
              "       [-0.10567191,  0.68284344, -3.11291182,  0.08207559, -0.04199461,\n",
              "        -0.38493396,  0.31448807, -1.443684  , -0.88849573],\n",
              "       [ 1.00638577, -0.3921671 , -0.84123856, -0.77098624,  0.07499537,\n",
              "        -0.35719527, -0.32266668, -0.90928135,  0.07118609]])"
            ]
          },
          "metadata": {},
          "execution_count": 40
        }
      ],
      "source": [
        "X.T"
      ]
    },
    {
      "cell_type": "markdown",
      "metadata": {
        "id": "Tn9DYyd4ZsO0"
      },
      "source": [
        "Para multiplicar matrizes, do ponto de visto de multiplicação matricial como definido na álgebra linear, fazemos uso de `@`."
      ]
    },
    {
      "cell_type": "code",
      "execution_count": 41,
      "metadata": {
        "colab": {
          "base_uri": "https://localhost:8080/"
        },
        "id": "hRc6m2ThZsO0",
        "outputId": "d7ce53ee-e606-4794-a4ea-4ca40e4b259a"
      },
      "outputs": [
        {
          "output_type": "execute_result",
          "data": {
            "text/plain": [
              "array([[ 5.77588454e+00, -1.75518648e+00, -1.44637655e-01,\n",
              "        -8.30800797e-01,  2.48690559e+00,  1.04459095e+00,\n",
              "         1.73456739e-01, -1.43515457e+00,  9.54853010e-01],\n",
              "       [-1.75518648e+00,  2.17924151e+00, -1.94918796e+00,\n",
              "         2.57491832e-03, -3.76698691e-01,  1.68649695e-01,\n",
              "         6.06450523e-01, -2.44184798e-01,  9.60751391e-01],\n",
              "       [-1.44637655e-01, -1.94918796e+00,  1.18550105e+01,\n",
              "        -1.09002879e+00, -1.68622728e+00,  5.27225141e+00,\n",
              "        -1.13377755e+00,  3.45458358e+00,  2.72737203e+00],\n",
              "       [-8.30800797e-01,  2.57491832e-03, -1.09002879e+00,\n",
              "         4.15864265e+00,  2.61576009e-01, -1.90973491e+00,\n",
              "        -5.74063597e-01,  2.34249793e+00,  2.73051924e+00],\n",
              "       [ 2.48690559e+00, -3.76698691e-01, -1.68622728e+00,\n",
              "         2.61576009e-01,  1.07755513e+01, -7.68640933e+00,\n",
              "         2.65557963e-01,  1.49777243e+00, -1.31229238e+00],\n",
              "       [ 1.04459095e+00,  1.68649695e-01,  5.27225141e+00,\n",
              "        -1.90973491e+00, -7.68640933e+00,  1.74385872e+01,\n",
              "        -2.79247677e+00, -6.41724120e+00,  7.12106062e+00],\n",
              "       [ 1.73456739e-01,  6.06450523e-01, -1.13377755e+00,\n",
              "        -5.74063597e-01,  2.65557963e-01, -2.79247677e+00,\n",
              "         2.25533662e+00,  1.50674793e+00, -2.72624131e+00],\n",
              "       [-1.43515457e+00, -2.44184798e-01,  3.45458358e+00,\n",
              "         2.34249793e+00,  1.49777243e+00, -6.41724120e+00,\n",
              "         1.50674793e+00,  7.23240651e+00, -2.35757259e-01],\n",
              "       [ 9.54853010e-01,  9.60751391e-01,  2.72737203e+00,\n",
              "         2.73051924e+00, -1.31229238e+00,  7.12106062e+00,\n",
              "        -2.72624131e+00, -2.35757259e-01,  1.12156616e+01]])"
            ]
          },
          "metadata": {},
          "execution_count": 41
        }
      ],
      "source": [
        "X @ X.T"
      ]
    },
    {
      "cell_type": "markdown",
      "metadata": {
        "id": "2UtZci6nZsO0"
      },
      "source": [
        "O uso de `*` realiza uma operação ponto a ponto"
      ]
    },
    {
      "cell_type": "code",
      "execution_count": 42,
      "metadata": {
        "colab": {
          "base_uri": "https://localhost:8080/"
        },
        "id": "71sVL_kTZsO0",
        "outputId": "a5b5e68c-8b6e-4f97-939d-b0ff012c4410"
      },
      "outputs": [
        {
          "output_type": "execute_result",
          "data": {
            "text/plain": [
              "array([[7.52248554e-01, 2.77061342e-03, 2.33511562e+00, 1.46122553e+00,\n",
              "        1.79297884e-01, 2.12474647e-02, 1.11665519e-02, 1.01281231e+00],\n",
              "       [1.27090433e-01, 6.54268085e-01, 2.62680321e-01, 1.77492692e-02,\n",
              "        4.55098719e-02, 4.51873332e-01, 4.66275165e-01, 1.53795036e-01],\n",
              "       [4.60626390e-01, 5.10758587e-03, 4.57732948e-01, 4.17355263e-01,\n",
              "        3.74883310e-02, 7.87976614e-02, 9.69022001e+00, 7.07682311e-01],\n",
              "       [1.83894454e+00, 3.15080062e-02, 6.38350755e-01, 1.46439476e-01,\n",
              "        8.59219609e-01, 4.30240741e-02, 6.73640245e-03, 5.94419789e-01],\n",
              "       [2.06515008e+00, 3.22305397e-01, 4.24989674e+00, 3.27960711e+00,\n",
              "        5.49876312e-02, 7.96216451e-01, 1.76354715e-03, 5.62430545e-03],\n",
              "       [1.90080934e-01, 3.59049101e+00, 1.93173078e+00, 7.28458388e+00,\n",
              "        3.02267141e-01, 3.86367085e+00, 1.48174155e-01, 1.27588463e-01],\n",
              "       [3.12086903e-05, 2.45066530e-01, 5.39677103e-02, 9.40559028e-02,\n",
              "        7.42186167e-01, 9.17012577e-01, 9.89027439e-02, 1.04113785e-01],\n",
              "       [8.55463687e-01, 8.57029493e-01, 1.88381318e-01, 4.40456423e-01,\n",
              "        1.22214213e-03, 1.97883739e+00, 2.08422349e+00, 8.26792566e-01],\n",
              "       [1.71262648e+00, 5.03295813e+00, 5.10083308e-02, 6.75255024e-01,\n",
              "        2.92915433e+00, 2.01671629e-02, 7.89424657e-01, 5.06745942e-03]])"
            ]
          },
          "metadata": {},
          "execution_count": 42
        }
      ],
      "source": [
        "X * X"
      ]
    },
    {
      "cell_type": "markdown",
      "metadata": {
        "id": "UETwtR0BZsO1"
      },
      "source": [
        "Observe a diferença de tamanhos"
      ]
    },
    {
      "cell_type": "code",
      "execution_count": 43,
      "metadata": {
        "colab": {
          "base_uri": "https://localhost:8080/"
        },
        "id": "sMcfbWrmZsO1",
        "outputId": "4b96d667-8c7d-4eec-f270-353610efbbe6"
      },
      "outputs": [
        {
          "output_type": "execute_result",
          "data": {
            "text/plain": [
              "(9, 8)"
            ]
          },
          "metadata": {},
          "execution_count": 43
        }
      ],
      "source": [
        "(X * X).shape"
      ]
    },
    {
      "cell_type": "code",
      "execution_count": 44,
      "metadata": {
        "colab": {
          "base_uri": "https://localhost:8080/"
        },
        "id": "-oVkOF4EZsO1",
        "outputId": "5517127b-4f5b-4279-e8f2-e8f648acceee"
      },
      "outputs": [
        {
          "output_type": "execute_result",
          "data": {
            "text/plain": [
              "(9, 9)"
            ]
          },
          "metadata": {},
          "execution_count": 44
        }
      ],
      "source": [
        "(X @ X.T).shape"
      ]
    },
    {
      "cell_type": "markdown",
      "metadata": {
        "id": "766taIm3ZsO1"
      },
      "source": [
        "**Pense:** Para o nosso `X` de tamanho `(9, 8)`, qual o motivo de `X * X.T` não funcionar? Qual o motivo de `X @ X` não funcionar?"
      ]
    },
    {
      "cell_type": "markdown",
      "metadata": {
        "id": "HzcJOMDLZsO1"
      },
      "source": [
        "## Correção Automática\n",
        "\n",
        "Nossa correção automática depende das funções abaixo. Tais funções comparam valores que serão computados pelo seu código com uma saída esperada. Normalmente, vocês não fazer uso de tais funções em notebooks como este. Porém, elas são chave em ambientes de testes automáticos (fora do nosso escopo).\n",
        "\n",
        "Observe como algumas funções comparam valores e outras comparam vetores. Além do mais, temos funções para comparar dentro de algumas casas decimais."
      ]
    },
    {
      "cell_type": "code",
      "execution_count": 45,
      "metadata": {
        "id": "EbmGwDDQZsO2"
      },
      "outputs": [],
      "source": [
        "from numpy.testing import assert_almost_equal\n",
        "from numpy.testing import assert_equal\n",
        "\n",
        "from numpy.testing import assert_array_almost_equal\n",
        "from numpy.testing import assert_array_equal"
      ]
    },
    {
      "cell_type": "code",
      "execution_count": 46,
      "metadata": {
        "id": "yZkTVJEXZsO2"
      },
      "outputs": [],
      "source": [
        "# caso você mude um dos valores vamos receber um erro!\n",
        "assert_array_equal(2, 2)\n",
        "\n",
        "# caso você mude um dos valores vamos receber um erro!\n",
        "assert_array_equal([1, 2], [1, 2])\n",
        "\n",
        "# caso você mude um dos valores vamos receber um erro!\n",
        "assert_almost_equal(3.1415, 3.14, 1)"
      ]
    },
    {
      "cell_type": "markdown",
      "metadata": {
        "id": "KWlmE8WYZsO2"
      },
      "source": [
        "Caso você mude um dos valores abaixo vamos receber um erro! Como o abaixo.\n",
        "\n",
        "```\n",
        "-----------------------------------------------------------------------\n",
        "AssertionError                        Traceback (most recent call last)\n",
        "<ipython-input-10-396672d880f2> in <module>\n",
        "----> 1 assert_equal(2, 3) # caso você mude um dos valores vamos receber um erro!\n",
        "\n",
        "~/miniconda3/lib/python3.7/site-packages/numpy/testing/_private/utils.py in assert_equal(actual, desired, err_msg, verbose)\n",
        "    413         # Explicitly use __eq__ for comparison, gh-2552\n",
        "    414         if not (desired == actual):\n",
        "--> 415             raise AssertionError(msg)\n",
        "    416\n",
        "    417     except (DeprecationWarning, FutureWarning) as e:\n",
        "\n",
        "AssertionError:\n",
        "Items are not equal:\n",
        " ACTUAL: 2\n",
        " DESIRED: 3\n",
        " ```"
      ]
    },
    {
      "cell_type": "markdown",
      "metadata": {
        "id": "qPWtrfUMZsO2"
      },
      "source": [
        "É essencial que todo seu código execute sem erros! Portanto, antes de submeter clique em `Kernel` no menu acima. Depois clique em `Restart & Execute All.`\n",
        "\n",
        "**Garanta que o notebook executa até o fim!** Isto é, sem erros como o acima."
      ]
    },
    {
      "cell_type": "markdown",
      "metadata": {
        "id": "nz12IK9eZsO2"
      },
      "source": [
        "## Funções em Python"
      ]
    },
    {
      "cell_type": "markdown",
      "metadata": {
        "id": "geT78PGyZsO2"
      },
      "source": [
        "Para criar uma função em Python fazemos uso da palavra-chave:\n",
        "```python\n",
        "def\n",
        "```\n",
        "\n",
        "Todos nossos exercícios farão uso de funções. **Mantenha a assinatura das funções exatamente como requisitado, a correção automática depende disso.** Abaixo, temos um exempo de uma função que imprime algo na tela!"
      ]
    },
    {
      "cell_type": "code",
      "execution_count": 47,
      "metadata": {
        "id": "maxrcFqfZsO3"
      },
      "outputs": [],
      "source": [
        "def print_something(txt):\n",
        "    print(f'Voce passou o argumento: {txt}')"
      ]
    },
    {
      "cell_type": "code",
      "execution_count": 48,
      "metadata": {
        "colab": {
          "base_uri": "https://localhost:8080/"
        },
        "id": "mUHcIKORZsO3",
        "outputId": "b7d2214a-7344-4b17-8378-2d2026b92a4f"
      },
      "outputs": [
        {
          "output_type": "stream",
          "name": "stdout",
          "text": [
            "Voce passou o argumento: DCC 212\n"
          ]
        }
      ],
      "source": [
        "print_something('DCC 212')"
      ]
    },
    {
      "cell_type": "markdown",
      "metadata": {
        "id": "EdarbPuVZsO3"
      },
      "source": [
        "Podemos também dizer o tipo do argumento, porém faremos pouco uso disto em ICD."
      ]
    },
    {
      "cell_type": "code",
      "execution_count": 49,
      "metadata": {
        "id": "vcswZW_RZsO3"
      },
      "outputs": [],
      "source": [
        "def print_something(txt: str):\n",
        "    print(f'Voce passou o argumento: {txt}')"
      ]
    },
    {
      "cell_type": "code",
      "execution_count": 50,
      "metadata": {
        "colab": {
          "base_uri": "https://localhost:8080/"
        },
        "id": "6ufoJnzbZsO3",
        "outputId": "267f85df-f707-4157-fc9d-5c874e16c804"
      },
      "outputs": [
        {
          "output_type": "stream",
          "name": "stdout",
          "text": [
            "Voce passou o argumento: DCC 212\n"
          ]
        }
      ],
      "source": [
        "print_something('DCC 212')"
      ]
    },
    {
      "cell_type": "markdown",
      "metadata": {
        "id": "kBuptUBUZsO3"
      },
      "source": [
        "Abaixo temos uma função que soma, a soma, dois vetores"
      ]
    },
    {
      "cell_type": "code",
      "execution_count": 51,
      "metadata": {
        "id": "_5sqGRkpZsO4"
      },
      "outputs": [],
      "source": [
        "def sum_of_sum_vectors(array_1, array_2):\n",
        "    return (array_1 + array_2).sum()"
      ]
    },
    {
      "cell_type": "code",
      "execution_count": 52,
      "metadata": {
        "id": "v6tYKdeSZsO4"
      },
      "outputs": [],
      "source": [
        "x = np.array([1, 2])\n",
        "y = np.array([1, 2])"
      ]
    },
    {
      "cell_type": "code",
      "execution_count": 53,
      "metadata": {
        "colab": {
          "base_uri": "https://localhost:8080/"
        },
        "id": "__sXwF9AZsO4",
        "outputId": "f1184cb0-2597-4b6a-83d7-de7da0a08856"
      },
      "outputs": [
        {
          "output_type": "execute_result",
          "data": {
            "text/plain": [
              "np.int64(6)"
            ]
          },
          "metadata": {},
          "execution_count": 53
        }
      ],
      "source": [
        "sum_of_sum_vectors(x, y)"
      ]
    },
    {
      "cell_type": "markdown",
      "metadata": {
        "id": "6TGAkSeUZsO4"
      },
      "source": [
        "Abaixo temos um teste, tais testes vão avaliar o seu código. Nem todos estão aqui no notebook!"
      ]
    },
    {
      "cell_type": "code",
      "execution_count": 54,
      "metadata": {
        "id": "CEBCaevVZsO4"
      },
      "outputs": [],
      "source": [
        "assert_equal(6, sum_of_sum_vectors(x, y))"
      ]
    },
    {
      "cell_type": "markdown",
      "metadata": {
        "id": "1rskMPaKZsO4"
      },
      "source": [
        "## Exercício 01\n",
        "\n",
        "Inicialmente, crie uma função que recebe duas listas de números, converte as duas para um vetor numpy usando `np.array` e retorna o produto interno das duas listas.\n",
        "\n",
        "__Dicas:__  \n",
        "1. Tente fazer um código sem nenhum **for**! Ou seja, numpy permite operações em vetores e matrizes, onde: `np.array([1, 2]) + np.array([2, 2]) = np.array([3, 4])`.\n",
        "\n",
        "__Funções:__\n",
        "1. `np.sum(array)` soma os elementos do array. `array.sum()` tem o mesmo efeito!"
      ]
    },
    {
      "cell_type": "code",
      "execution_count": 55,
      "metadata": {
        "id": "1SqwU-IOZsO5"
      },
      "outputs": [],
      "source": [
        "def inner(array_1, array_2):\n",
        "    #cria os arrays numpy\n",
        "    np.array(array_1)\n",
        "    np.array(array_2)\n",
        "\n",
        "    if len(array_1) != len(array_2):\n",
        "        print(\"ERRO: as listas não têm o mesmo tamanho para o produto interno\")\n",
        "        return 0\n",
        "    return (array_1 * array_2).sum()"
      ]
    },
    {
      "cell_type": "code",
      "execution_count": 56,
      "metadata": {
        "id": "EVnELAjqZsO5"
      },
      "outputs": [],
      "source": [
        "x1 = np.array([2, 4, 8])\n",
        "x2 = np.array([10, 100, 1000])\n",
        "assert_equal(20 + 400 + 8000, inner(x1, x2))"
      ]
    },
    {
      "cell_type": "markdown",
      "metadata": {
        "id": "jxFiESBhZsO5"
      },
      "source": [
        "## Exercício 02\n",
        "\n",
        "Implemente uma função utilizando numpy que recebe duas matrizes, multiplica as duas e retorne o valor médio das células da multiplicação. Por exemplo, ao multiplicar:\n",
        "\n",
        "```\n",
        "[1 2]\n",
        "[3 4]\n",
        "\n",
        "com\n",
        "\n",
        "[2 1]\n",
        "[1 2]\n",
        "\n",
        "temos\n",
        "\n",
        "[4  5 ]\n",
        "[10 11]\n",
        "\n",
        "onde a média de [4, 5, 10, 11] é\n",
        "\n",
        "7.5, sua resposta final!\n",
        "```\n",
        "\n",
        "\n",
        "__Dicas:__  \n",
        "1. Use o operador @ para multiplicar matrizes!"
      ]
    },
    {
      "cell_type": "code",
      "execution_count": 57,
      "metadata": {
        "id": "Qq7ykKnLZsO5"
      },
      "outputs": [],
      "source": [
        "def medmult(X_1, X_2):\n",
        "    return np.mean(X_1 @ X_2)\n",
        ""
      ]
    },
    {
      "cell_type": "code",
      "execution_count": 58,
      "metadata": {
        "id": "A_I1p3iCZsO5"
      },
      "outputs": [],
      "source": [
        "X = np.array([1, 2, 3, 4]).reshape(2, 2)\n",
        "Y = np.array([2, 1, 1, 2]).reshape(2, 2)\n",
        "assert_equal(7.5, medmult(X, Y))"
      ]
    },
    {
      "cell_type": "code",
      "execution_count": 58,
      "metadata": {
        "id": "SknWI3wnZsO6"
      },
      "outputs": [],
      "source": []
    }
  ],
  "metadata": {
    "kernelspec": {
      "display_name": "Python 3 (ipykernel)",
      "language": "python",
      "name": "python3"
    },
    "language_info": {
      "codemirror_mode": {
        "name": "ipython",
        "version": 3
      },
      "file_extension": ".py",
      "mimetype": "text/x-python",
      "name": "python",
      "nbconvert_exporter": "python",
      "pygments_lexer": "ipython3",
      "version": "3.11.3"
    },
    "colab": {
      "provenance": []
    }
  },
  "nbformat": 4,
  "nbformat_minor": 0
}